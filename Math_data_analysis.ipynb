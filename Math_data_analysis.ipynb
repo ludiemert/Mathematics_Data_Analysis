{
 "cells": [
  {
   "cell_type": "code",
   "execution_count": null,
   "id": "5470b821-5f41-4bc9-8318-d3f66e8b9b3e",
   "metadata": {},
   "outputs": [],
   "source": [
    "# O curso sera dividido em 3 partes ( em Machine Learning)\n",
    "# 1 - Calculo, 2 - Algebra Linear e 3 - Probabilidade e estatistica\n",
    "\n",
    "# Cálculo – Fornece as ferramentas para entender como os algoritmos aprendem ajustando funções por meio de derivadas e otimização.\n",
    "# Álgebra Linear – Permite representar e manipular dados e modelos de ML usando vetores, matrizes e transformações lineares.\n",
    "# Probabilidade e Estatística – Dá a base para lidar com incerteza, inferir padrões e avaliar a performance dos modelos."
   ]
  }
 ],
 "metadata": {
  "kernelspec": {
   "display_name": "Python 3 (ipykernel)",
   "language": "python",
   "name": "python3"
  },
  "language_info": {
   "codemirror_mode": {
    "name": "ipython",
    "version": 3
   },
   "file_extension": ".py",
   "mimetype": "text/x-python",
   "name": "python",
   "nbconvert_exporter": "python",
   "pygments_lexer": "ipython3",
   "version": "3.13.0"
  }
 },
 "nbformat": 4,
 "nbformat_minor": 5
}
