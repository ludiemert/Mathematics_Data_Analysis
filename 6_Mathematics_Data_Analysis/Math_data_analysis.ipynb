{
 "cells": [
  {
   "cell_type": "code",
   "execution_count": null,
   "id": "5470b821-5f41-4bc9-8318-d3f66e8b9b3e",
   "metadata": {},
   "outputs": [],
   "source": [
    "# O curso sera dividido em 3 partes ( em Machine Learning)\n",
    "# 1 - Calculo, 2 - Algebra Linear e 3 - Probabilidade e estatistica\n",
    "\n",
    "# Cálculo – Fornece as ferramentas para entender como os algoritmos aprendem ajustando funções por meio de derivadas e otimização.\n",
    "# Álgebra Linear – Permite representar e manipular dados e modelos de ML usando vetores, matrizes e transformações lineares.\n",
    "# Probabilidade e Estatística – Dá a base para lidar com incerteza, inferir padrões e avaliar a performance dos modelos.\n",
    "\n"
   ]
  },
  {
   "cell_type": "code",
   "execution_count": null,
   "id": "de7a2dbe-b3ba-4f9a-b9ef-3f2030f2912e",
   "metadata": {},
   "outputs": [],
   "source": [
    "# 1 - Calculo\n",
    "\n",
    "# Função – Representa o modelo de ML que mapeia entradas (dados) para saídas (previsões).\n",
    "# Limites – Ajudam a compreender o comportamento de funções em pontos críticos usados na otimização.\n",
    "# Derivadas – São a base do gradiente descendente, usado para ajustar os pesos dos modelos e minimizar erros.\n",
    "\n"
   ]
  },
  {
   "cell_type": "code",
   "execution_count": null,
   "id": "96fc097b-af21-42b9-b9ce-dffaa5221966",
   "metadata": {},
   "outputs": [],
   "source": [
    "# Sobre funcoes => Em Machine Learning, funções são fórmulas ou regras matemáticas que descrevem a relação entre entradas (features) e saídas (predições).\n",
    "# 👉 Exemplo simples:\n",
    "# Temos uma função  𝑓 (𝑥)\n",
    "#f(x) que recebe um valor de entrada \n",
    "# 𝑥 => x e devolve um resultado.\n",
    "# No aprendizado de máquina, essa função pode ser linear (reta) ou não linear (curvas complexas).\n",
    "# O papel do algoritmo é aprender a melhor função que aproxima os dados de treinamento, para depois generalizar e prever novos casos."
   ]
  },
  {
   "cell_type": "code",
   "execution_count": null,
   "id": "199857bf-2bc3-4751-be86-8c76c0f0b524",
   "metadata": {},
   "outputs": [],
   "source": [
    "# Ferramenta limites para entender o conceito de Derivadas \n",
    "\n",
    "#Em matemática, o limite de uma função descreve o valor que a função se aproxima quando a variável de entrada se aproxima de um certo ponto.\n",
    "\n"
   ]
  },
  {
   "cell_type": "code",
   "execution_count": null,
   "id": "3e6617f7-d6b3-4dce-94d1-c3f49e5d2b73",
   "metadata": {},
   "outputs": [],
   "source": [
    "# Derivadas: \n",
    "\n",
    "#Derivada = inclinação da curva.\n",
    "# Se positiva → função está subindo → aumentar  𝜃 θ aumenta o erro.\n",
    "# Se negativa → função está descendo → aumentar 𝜃 θ diminui o erro.\n",
    "# O modelo ajusta seus parâmetros até chegar a um ponto onde a derivada é zero → mínimo (ótimo local/global).\n",
    "\n",
    "#A derivada em ML é a base para otimização:\n",
    "# Permite treinar modelos ajustando pesos.\n",
    "# É usada em gradient descent e backpropagation.\n",
    "# Dá a “bússola” de como reduzir o erro em cada iteração."
   ]
  },
  {
   "cell_type": "code",
   "execution_count": null,
   "id": "9af48ae0-09ee-4f24-94e1-bfd650280887",
   "metadata": {},
   "outputs": [],
   "source": [
    "# Em ML, funções representam modelos, erros e ativações; \n",
    "# e derivadas são usadas para otimizar esses modelos, ajustando parâmetros até minimizar o erro."
   ]
  },
  {
   "cell_type": "code",
   "execution_count": null,
   "id": "2be213bd-e745-41f7-9bc0-464ba809d41c",
   "metadata": {},
   "outputs": [],
   "source": [
    "# Derivadas Parciais"
   ]
  },
  {
   "cell_type": "code",
   "execution_count": null,
   "id": "4796cbe9-5380-4b54-a9f9-4a96cd42b22c",
   "metadata": {},
   "outputs": [],
   "source": [
    "# Algebra Linear"
   ]
  },
  {
   "cell_type": "code",
   "execution_count": null,
   "id": "b704c982-d7d9-42ea-b1f2-2e69c3543901",
   "metadata": {},
   "outputs": [],
   "source": [
    "# Matriz => uma tabela de numeros => tem uma quantidade de linhas e colunas => primeiro as linhas depois as colunas\n",
    "# Vetores => matriz simplificada de uma unica coluna"
   ]
  },
  {
   "cell_type": "code",
   "execution_count": null,
   "id": "3ab28bc3-1ff4-4136-9fe4-d6e3f3806066",
   "metadata": {},
   "outputs": [],
   "source": [
    "# Operacoes Matriciais = com Adicao e Subtracao\n",
    "# 34_Multiplicacao_Matricial ( no PY eh chamado de multiplicacao ponto a ponto)\n",
    "# Matriz Identidade\n",
    "# 39_MatrizTransposicao_Matriz_Iversao\n",
    "# matriz inversa - multip ela da o valor de 1\n"
   ]
  },
  {
   "cell_type": "code",
   "execution_count": null,
   "id": "206aed96-14a2-45fe-9321-253a5edd551c",
   "metadata": {},
   "outputs": [],
   "source": [
    "# Modulo de Probabilidade Estatistica\n",
    "# ex: jogar um Dado ele sempre cai de um lado diferente\n",
    "# probabilidade eh sempre encontrar as opcoes de probabilidade de vezes que vai acontecer\n",
    "# Processo aleatorio => Resultado => sempre vamos fazer essa analise\n",
    "# usar varias probabilidades => tempo, cara e coroa ......\n",
    "# conjunto discreto\n"
   ]
  },
  {
   "cell_type": "code",
   "execution_count": null,
   "id": "42eb9f9f-09fa-46e4-9d00-71c1473490ac",
   "metadata": {},
   "outputs": [],
   "source": [
    "# Lei dos grandes Numeros"
   ]
  },
  {
   "cell_type": "code",
   "execution_count": 1,
   "id": "3aeb4fee-82f3-4d9a-8dcb-e8e05c3dc06d",
   "metadata": {},
   "outputs": [],
   "source": [
    "import numpy\n",
    "import matplotlib.pyplot as plt"
   ]
  },
  {
   "cell_type": "code",
   "execution_count": 2,
   "id": "71182346-a51f-4e18-9678-adde37cc005b",
   "metadata": {},
   "outputs": [],
   "source": [
    "# interacao do evento \n",
    "prob_a = 0.5\n",
    "\n",
    "prob = [] # lista vazia\n",
    "a = 0 # variavel A qtidade de vezes que ja aconteceu o evento\n",
    "c = 1 # qtas vezes ja repeti esse evento\n",
    "\n"
   ]
  },
  {
   "cell_type": "code",
   "execution_count": 3,
   "id": "919b3e20-6c5f-4a14-a4d3-16faf2c73aa6",
   "metadata": {},
   "outputs": [
    {
     "data": {
      "text/plain": [
       "0.8963963621499814"
      ]
     },
     "execution_count": 3,
     "metadata": {},
     "output_type": "execute_result"
    }
   ],
   "source": [
    "# funcao o py que gera numero aleatorios\n",
    "numpy.random.rand()"
   ]
  },
  {
   "cell_type": "code",
   "execution_count": 4,
   "id": "426ef703-9cb9-421b-ab42-aad3c3e4f49f",
   "metadata": {},
   "outputs": [],
   "source": [
    "for i in range(100): # repetir esse processo 100x\n",
    "    if numpy.random.rand() < prob_a: # se o numero for maior que 0.5\n",
    "        a += 1 # incremento 1 no valor de a\n",
    "    prob += [a/c] # vou incrementar na lista a proporcao do evento\n",
    "    c += 1 # incrementa para ir para proxima vez "
   ]
  },
  {
   "cell_type": "code",
   "execution_count": 5,
   "id": "928535ea-74a0-467f-b66a-a6d961ff489d",
   "metadata": {},
   "outputs": [
    {
     "data": {
      "text/plain": [
       "[0.0,\n",
       " 0.5,\n",
       " 0.6666666666666666,\n",
       " 0.75,\n",
       " 0.8,\n",
       " 0.6666666666666666,\n",
       " 0.7142857142857143,\n",
       " 0.625,\n",
       " 0.5555555555555556,\n",
       " 0.5,\n",
       " 0.45454545454545453,\n",
       " 0.5,\n",
       " 0.5384615384615384,\n",
       " 0.5,\n",
       " 0.5333333333333333,\n",
       " 0.5,\n",
       " 0.5294117647058824,\n",
       " 0.5555555555555556,\n",
       " 0.5263157894736842,\n",
       " 0.5,\n",
       " 0.47619047619047616,\n",
       " 0.45454545454545453,\n",
       " 0.4782608695652174,\n",
       " 0.5,\n",
       " 0.48,\n",
       " 0.46153846153846156,\n",
       " 0.48148148148148145,\n",
       " 0.5,\n",
       " 0.4827586206896552,\n",
       " 0.4666666666666667,\n",
       " 0.45161290322580644,\n",
       " 0.4375,\n",
       " 0.42424242424242425,\n",
       " 0.4117647058823529,\n",
       " 0.42857142857142855,\n",
       " 0.4444444444444444,\n",
       " 0.43243243243243246,\n",
       " 0.4473684210526316,\n",
       " 0.4358974358974359,\n",
       " 0.45,\n",
       " 0.43902439024390244,\n",
       " 0.42857142857142855,\n",
       " 0.4186046511627907,\n",
       " 0.4090909090909091,\n",
       " 0.4,\n",
       " 0.41304347826086957,\n",
       " 0.40425531914893614,\n",
       " 0.3958333333333333,\n",
       " 0.3877551020408163,\n",
       " 0.4,\n",
       " 0.39215686274509803,\n",
       " 0.40384615384615385,\n",
       " 0.39622641509433965,\n",
       " 0.4074074074074074,\n",
       " 0.4,\n",
       " 0.39285714285714285,\n",
       " 0.40350877192982454,\n",
       " 0.41379310344827586,\n",
       " 0.423728813559322,\n",
       " 0.43333333333333335,\n",
       " 0.4426229508196721,\n",
       " 0.45161290322580644,\n",
       " 0.4603174603174603,\n",
       " 0.453125,\n",
       " 0.46153846153846156,\n",
       " 0.45454545454545453,\n",
       " 0.4626865671641791,\n",
       " 0.45588235294117646,\n",
       " 0.463768115942029,\n",
       " 0.45714285714285713,\n",
       " 0.4507042253521127,\n",
       " 0.4444444444444444,\n",
       " 0.4383561643835616,\n",
       " 0.43243243243243246,\n",
       " 0.44,\n",
       " 0.4473684210526316,\n",
       " 0.45454545454545453,\n",
       " 0.44871794871794873,\n",
       " 0.45569620253164556,\n",
       " 0.4625,\n",
       " 0.4691358024691358,\n",
       " 0.47560975609756095,\n",
       " 0.46987951807228917,\n",
       " 0.4642857142857143,\n",
       " 0.47058823529411764,\n",
       " 0.46511627906976744,\n",
       " 0.45977011494252873,\n",
       " 0.4659090909090909,\n",
       " 0.4606741573033708,\n",
       " 0.45555555555555555,\n",
       " 0.45054945054945056,\n",
       " 0.45652173913043476,\n",
       " 0.46236559139784944,\n",
       " 0.46808510638297873,\n",
       " 0.47368421052631576,\n",
       " 0.4791666666666667,\n",
       " 0.4742268041237113,\n",
       " 0.47959183673469385,\n",
       " 0.48484848484848486,\n",
       " 0.49]"
      ]
     },
     "execution_count": 5,
     "metadata": {},
     "output_type": "execute_result"
    }
   ],
   "source": [
    "prob"
   ]
  },
  {
   "cell_type": "code",
   "execution_count": null,
   "id": "0ac1fbc7-40b8-4a88-9bd7-dd119c05dcf4",
   "metadata": {},
   "outputs": [],
   "source": []
  }
 ],
 "metadata": {
  "kernelspec": {
   "display_name": "Python 3 (ipykernel)",
   "language": "python",
   "name": "python3"
  },
  "language_info": {
   "codemirror_mode": {
    "name": "ipython",
    "version": 3
   },
   "file_extension": ".py",
   "mimetype": "text/x-python",
   "name": "python",
   "nbconvert_exporter": "python",
   "pygments_lexer": "ipython3",
   "version": "3.13.0"
  }
 },
 "nbformat": 4,
 "nbformat_minor": 5
}
