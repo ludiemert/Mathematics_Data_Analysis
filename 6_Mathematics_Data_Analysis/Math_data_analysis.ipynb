{
 "cells": [
  {
   "cell_type": "code",
   "execution_count": null,
   "id": "5470b821-5f41-4bc9-8318-d3f66e8b9b3e",
   "metadata": {},
   "outputs": [],
   "source": [
    "# O curso sera dividido em 3 partes ( em Machine Learning)\n",
    "# 1 - Calculo, 2 - Algebra Linear e 3 - Probabilidade e estatistica\n",
    "\n",
    "# Cálculo – Fornece as ferramentas para entender como os algoritmos aprendem ajustando funções por meio de derivadas e otimização.\n",
    "# Álgebra Linear – Permite representar e manipular dados e modelos de ML usando vetores, matrizes e transformações lineares.\n",
    "# Probabilidade e Estatística – Dá a base para lidar com incerteza, inferir padrões e avaliar a performance dos modelos.\n",
    "\n"
   ]
  },
  {
   "cell_type": "code",
   "execution_count": null,
   "id": "de7a2dbe-b3ba-4f9a-b9ef-3f2030f2912e",
   "metadata": {},
   "outputs": [],
   "source": [
    "# 1 - Calculo\n",
    "\n",
    "# Função – Representa o modelo de ML que mapeia entradas (dados) para saídas (previsões).\n",
    "# Limites – Ajudam a compreender o comportamento de funções em pontos críticos usados na otimização.\n",
    "# Derivadas – São a base do gradiente descendente, usado para ajustar os pesos dos modelos e minimizar erros.\n",
    "\n"
   ]
  },
  {
   "cell_type": "code",
   "execution_count": null,
   "id": "96fc097b-af21-42b9-b9ce-dffaa5221966",
   "metadata": {},
   "outputs": [],
   "source": [
    "# Sobre funcoes => Em Machine Learning, funções são fórmulas ou regras matemáticas que descrevem a relação entre entradas (features) e saídas (predições).\n",
    "# 👉 Exemplo simples:\n",
    "# Temos uma função  𝑓 (𝑥)\n",
    "#f(x) que recebe um valor de entrada \n",
    "# 𝑥 => x e devolve um resultado.\n",
    "# No aprendizado de máquina, essa função pode ser linear (reta) ou não linear (curvas complexas).\n",
    "# O papel do algoritmo é aprender a melhor função que aproxima os dados de treinamento, para depois generalizar e prever novos casos."
   ]
  },
  {
   "cell_type": "code",
   "execution_count": null,
   "id": "199857bf-2bc3-4751-be86-8c76c0f0b524",
   "metadata": {},
   "outputs": [],
   "source": [
    "# Ferramenta limites para entender o conceito de Derivadas "
   ]
  }
 ],
 "metadata": {
  "kernelspec": {
   "display_name": "Python 3 (ipykernel)",
   "language": "python",
   "name": "python3"
  },
  "language_info": {
   "codemirror_mode": {
    "name": "ipython",
    "version": 3
   },
   "file_extension": ".py",
   "mimetype": "text/x-python",
   "name": "python",
   "nbconvert_exporter": "python",
   "pygments_lexer": "ipython3",
   "version": "3.13.0"
  }
 },
 "nbformat": 4,
 "nbformat_minor": 5
}
